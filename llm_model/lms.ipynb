{
 "cells": [
  {
   "cell_type": "code",
   "execution_count": 2,
   "metadata": {},
   "outputs": [
    {
     "name": "stderr",
     "output_type": "stream",
     "text": [
      "/home/sahil/Question_Answ/question/lib/python3.11/site-packages/tqdm/auto.py:21: TqdmWarning: IProgress not found. Please update jupyter and ipywidgets. See https://ipywidgets.readthedocs.io/en/stable/user_install.html\n",
      "  from .autonotebook import tqdm as notebook_tqdm\n"
     ]
    }
   ],
   "source": [
    "##impor every thing that are need in this project \n",
    "import os \n",
    "from langchain_google_genai import ChatGoogleGenerativeAI\n",
    "\n",
    "from langchain.prompts import PromptTemplate\n",
    "from langchain.chains import LLMChain\n",
    "from langchain.chains import SequentialChain\n",
    "from langchain.callbacks import get_openai_callback\n",
    "import json\n",
    "import pandas as pd\n",
    "import traceback \n",
    "import PyPDF2\n"
   ]
  },
  {
   "cell_type": "code",
   "execution_count": 3,
   "metadata": {},
   "outputs": [],
   "source": [
    "## in this project i use gemini \n",
    "\n",
    "llm = ChatGoogleGenerativeAI(model=\"gemini-1.5-flash\", google_api_key=\"\")"
   ]
  },
  {
   "cell_type": "code",
   "execution_count": 4,
   "metadata": {},
   "outputs": [],
   "source": [
    "## that are the format of response \n",
    "\n",
    "RESPONSE_JSON = {\n",
    "    \"1\": {\n",
    "        \"mcq\": \"multiple choice question\",\n",
    "        \"options\": {\n",
    "            \"a\": \"choice here\",\n",
    "            \"b\": \"choice here\",\n",
    "            \"c\": \"choice here\",\n",
    "            \"d\": \"choice here\",\n",
    "        },\n",
    "        \"correct\": \"correct answer\",\n",
    "    },\n",
    "    \"2\": {\n",
    "        \"mcq\": \"multiple choice question\",\n",
    "        \"options\": {\n",
    "            \"a\": \"choice here\",\n",
    "            \"b\": \"choice here\",\n",
    "            \"c\": \"choice here\",\n",
    "            \"d\": \"choice here\",\n",
    "        },\n",
    "        \"correct\": \"correct answer\",\n",
    "    },\n",
    "    \"3\": {\n",
    "        \"mcq\": \"multiple choice question\",\n",
    "        \"options\": {\n",
    "            \"a\": \"choice here\",\n",
    "            \"b\": \"choice here\",\n",
    "            \"c\": \"choice here\",\n",
    "            \"d\": \"choice here\",\n",
    "        },\n",
    "        \"correct\": \"correct answer\",\n",
    "    },\n",
    "}"
   ]
  },
  {
   "cell_type": "code",
   "execution_count": 5,
   "metadata": {},
   "outputs": [],
   "source": [
    "## this template 1 \n",
    "TEMPLATE=\"\"\"\n",
    "Text:{text}\n",
    "You are an expert MCQ maker. Given the above text, it is your job to \\\n",
    "create a quiz  of {number} multiple choice questions for {subject} students in {tone} tone.\n",
    "Make sure the questions are not repeated and check all the questions to be conforming the text as well.\n",
    "Make sure to format your response like  RESPONSE_JSON below  and use it as a guide. \\\n",
    "Ensure to make {number} MCQs\n",
    "### RESPONSE_JSON\n",
    "{response_json}\n",
    "\n",
    "\"\"\" \n",
    "TEMPLATE2=\"\"\"\n",
    "You are an expert english grammarian and writer. Given a Multiple Choice Quiz for {subject} students.\\\n",
    "You need to evaluate the complexity of the question and give a complete analysis of the quiz. Only use at max 50 words for complexity analysis.\n",
    "if the quiz is not at per with the cognitive and analytical abilities of the students,\\\n",
    "update the quiz questions which needs to be changed and change the tone such that it perfectly fits the student abilities\n",
    "Quiz_MCQs:\n",
    "{quiz}\n",
    "\n",
    "Check from an expert English Writer of the above quiz:\n",
    "\"\"\""
   ]
  },
  {
   "cell_type": "code",
   "execution_count": 6,
   "metadata": {},
   "outputs": [
    {
     "name": "stderr",
     "output_type": "stream",
     "text": [
      "/home/sahil/Question_Answ/question/lib/python3.11/site-packages/langchain_core/_api/deprecation.py:151: LangChainDeprecationWarning: The class `LLMChain` was deprecated in LangChain 0.1.17 and will be removed in 1.0. Use RunnableSequence, e.g., `prompt | llm` instead.\n",
      "  warn_deprecated(\n"
     ]
    }
   ],
   "source": [
    "## create the prompt \n",
    "\n",
    "quiz_generation_prompt=PromptTemplate(\n",
    "    input_variables=[\"text\", \"number\", \"subject\", \"tone\", \"response_json\"],\n",
    "    template=TEMPLATE\n",
    ") \n",
    "\n",
    "## now create a chain for prompt one \n",
    "\n",
    "llm_chain1=LLMChain(llm=llm,prompt=quiz_generation_prompt,output_key=\"quiz\")"
   ]
  },
  {
   "cell_type": "code",
   "execution_count": 7,
   "metadata": {},
   "outputs": [],
   "source": [
    "## create prompt for second template \n",
    "\n",
    "quiz_evaluation_prompt=PromptTemplate(\n",
    "    input_variables=[\"subject\",\"quiz\"],\n",
    "    template=TEMPLATE2\n",
    ") \n",
    "\n",
    "review_chain=LLMChain(llm=llm,prompt=quiz_evaluation_prompt,output_key=\"review\") "
   ]
  },
  {
   "cell_type": "code",
   "execution_count": 8,
   "metadata": {},
   "outputs": [],
   "source": [
    "## now use squentail chain \n",
    "\n",
    "generate_evaluate_chain=SequentialChain(chains=[llm_chain1, review_chain], input_variables=[\"text\", \"number\", \"subject\", \"tone\", \"response_json\"],\n",
    "                                        output_variables=[\"quiz\", \"review\"])"
   ]
  },
  {
   "cell_type": "code",
   "execution_count": 9,
   "metadata": {},
   "outputs": [],
   "source": [
    "## now test our model \n",
    "file_path=\"/home/sahil/Question_Answ/data.txt\"\n",
    "with open(file_path, 'r') as file:\n",
    "    TEXT = file.read()"
   ]
  },
  {
   "cell_type": "code",
   "execution_count": 10,
   "metadata": {},
   "outputs": [],
   "source": [
    "NUMBER=10\n",
    "SUBJECT=\"Mechin learning\"\n",
    "TONE=\"simple\""
   ]
  },
  {
   "cell_type": "code",
   "execution_count": 11,
   "metadata": {},
   "outputs": [
    {
     "name": "stderr",
     "output_type": "stream",
     "text": [
      "/home/sahil/Question_Answ/question/lib/python3.11/site-packages/langchain_core/_api/deprecation.py:151: LangChainDeprecationWarning: The method `Chain.__call__` was deprecated in langchain 0.1.0 and will be removed in 1.0. Use invoke instead.\n",
      "  warn_deprecated(\n"
     ]
    }
   ],
   "source": [
    "response=generate_evaluate_chain(\n",
    "        {\n",
    "            \"text\": TEXT,\n",
    "            \"number\": NUMBER,\n",
    "            \"subject\":SUBJECT,\n",
    "            \"tone\": TONE,\n",
    "            \"response_json\": json.dumps(RESPONSE_JSON)\n",
    "        }\n",
    "        )"
   ]
  },
  {
   "cell_type": "code",
   "execution_count": 12,
   "metadata": {},
   "outputs": [],
   "source": [
    "quiz=response.get(\"quiz\")"
   ]
  },
  {
   "cell_type": "code",
   "execution_count": 13,
   "metadata": {},
   "outputs": [
    {
     "data": {
      "text/plain": [
       "'{\"1\": {\"mcq\": \"Who coined the term \\'machine learning\\'?\", \"options\": {\"a\": \"Alan Turing\", \"b\": \"Arthur Samuel\", \"c\": \"Donald Hebb\", \"d\": \"Tom M. Mitchell\"}, \"correct\": \"b\"}, \"2\": {\"mcq\": \"What was the earliest machine learning model?\", \"options\": {\"a\": \"A program that played checkers\", \"b\": \"Cybertron, a learning machine\", \"c\": \"A neural network model\", \"d\": \"A decision tree\"}, \"correct\": \"a\"}, \"3\": {\"mcq\": \"What is the primary difference between machine learning and data mining?\", \"options\": {\"a\": \"Machine learning focuses on prediction, while data mining focuses on discovery.\", \"b\": \"Machine learning uses supervised learning, while data mining uses unsupervised learning.\", \"c\": \"Machine learning is used for classification, while data mining is used for regression.\", \"d\": \"Machine learning is a subset of data mining.\"}, \"correct\": \"a\"}, \"4\": {\"mcq\": \"What is the goal of generalization in machine learning?\", \"options\": {\"a\": \"To improve the accuracy of the model on unseen data.\", \"b\": \"To reduce the complexity of the model.\", \"c\": \"To increase the speed of the learning algorithm.\", \"d\": \"To find the optimal parameters for the model.\"}, \"correct\": \"a\"}, \"5\": {\"mcq\": \"Which type of machine learning involves training a model with labeled data?\", \"options\": {\"a\": \"Unsupervised learning\", \"b\": \"Supervised learning\", \"c\": \"Reinforcement learning\", \"d\": \"Self-learning\"}, \"correct\": \"b\"}, \"6\": {\"mcq\": \"What is the main difference between supervised and unsupervised learning?\", \"options\": {\"a\": \"Supervised learning uses labeled data, while unsupervised learning uses unlabeled data.\", \"b\": \"Supervised learning is used for classification, while unsupervised learning is used for regression.\", \"c\": \"Supervised learning is more accurate than unsupervised learning.\", \"d\": \"Unsupervised learning is more efficient than supervised learning.\"}, \"correct\": \"a\"}, \"7\": {\"mcq\": \"What is the purpose of dimensionality reduction?\", \"options\": {\"a\": \"To increase the accuracy of the model.\", \"b\": \"To reduce the complexity of the model.\", \"c\": \"To reduce the number of features in the data.\", \"d\": \"To improve the speed of the learning algorithm.\"}, \"correct\": \"c\"}, \"8\": {\"mcq\": \"What is a support-vector machine (SVM)?\", \"options\": {\"a\": \"A type of artificial neural network.\", \"b\": \"A rule-based machine learning algorithm.\", \"c\": \"A supervised learning model used for classification and regression.\", \"d\": \"A method for dimensionality reduction.\"}, \"correct\": \"c\"}, \"9\": {\"mcq\": \"What is the main goal of deep learning?\", \"options\": {\"a\": \"To model the way the human brain processes information.\", \"b\": \"To create artificial intelligence.\", \"c\": \"To solve problems that are too complex for traditional machine learning algorithms.\", \"d\": \"To improve the efficiency of machine learning algorithms.\"}, \"correct\": \"a\"}, \"10\": {\"mcq\": \"What is the purpose of feature learning?\", \"options\": {\"a\": \"To discover better representations of the input data.\", \"b\": \"To reduce the complexity of the model.\", \"c\": \"To improve the accuracy of the model.\", \"d\": \"To increase the speed of the learning algorithm.\"}, \"correct\": \"a\"}} \\n'"
      ]
     },
     "execution_count": 13,
     "metadata": {},
     "output_type": "execute_result"
    }
   ],
   "source": [
    "quiz=quiz.split(\"### RESPONSE_JSON\\n\")[1]\n",
    "quiz"
   ]
  },
  {
   "cell_type": "code",
   "execution_count": 17,
   "metadata": {},
   "outputs": [],
   "source": [
    "quiz=json.loads(quiz)"
   ]
  },
  {
   "cell_type": "code",
   "execution_count": 18,
   "metadata": {},
   "outputs": [],
   "source": [
    "quiz_table_data = []\n",
    "for key, value in quiz.items():\n",
    "    mcq = value[\"mcq\"]\n",
    "    options = \" | \".join(\n",
    "        [\n",
    "            f\"{option}: {option_value}\"\n",
    "            for option, option_value in value[\"options\"].items()\n",
    "            ]\n",
    "        )\n",
    "    correct = value[\"correct\"]\n",
    "    quiz_table_data.append({\"MCQ\": mcq, \"Choices\": options, \"Correct\": correct})"
   ]
  },
  {
   "cell_type": "code",
   "execution_count": 19,
   "metadata": {},
   "outputs": [
    {
     "data": {
      "text/plain": [
       "[{'MCQ': \"Who coined the term 'machine learning'?\",\n",
       "  'Choices': 'a: Alan Turing | b: Arthur Samuel | c: Donald Hebb | d: Tom M. Mitchell',\n",
       "  'Correct': 'b'},\n",
       " {'MCQ': 'What was the earliest machine learning model used for?',\n",
       "  'Choices': 'a: Playing chess | b: Analyzing sonar signals | c: Predicting stock prices | d: Classifying cancerous moles',\n",
       "  'Correct': 'a'},\n",
       " {'MCQ': 'What book introduced a theoretical neural structure based on interactions among nerve cells?',\n",
       "  'Choices': 'a: Learning Machines | b: The Organization of Behavior | c: Computing Machinery and Intelligence | d: Data Compression',\n",
       "  'Correct': 'b'},\n",
       " {'MCQ': 'Which of the following is NOT a type of machine learning approach?',\n",
       "  'Choices': 'a: Supervised learning | b: Unsupervised learning | c: Reinforcement learning | d: Deep learning',\n",
       "  'Correct': 'd'},\n",
       " {'MCQ': 'What is the main goal of supervised learning?',\n",
       "  'Choices': 'a: Finding patterns in unlabeled data | b: Learning a function to map inputs to outputs | c: Maximizing rewards in a dynamic environment | d: Discovering better representations of input data',\n",
       "  'Correct': 'b'},\n",
       " {'MCQ': 'What is the primary difference between machine learning and data mining?',\n",
       "  'Choices': 'a: Machine learning focuses on prediction, while data mining focuses on discovery | b: Machine learning uses labeled data, while data mining uses unlabeled data | c: Machine learning is supervised, while data mining is unsupervised | d: Machine learning is used for classification, while data mining is used for clustering',\n",
       "  'Correct': 'a'},\n",
       " {'MCQ': \"What is the 'kernel trick' used for in support-vector machines?\",\n",
       "  'Choices': 'a: Reducing the dimensionality of data | b: Performing non-linear classification | c: Improving the accuracy of linear classifiers | d: Creating artificial neural networks',\n",
       "  'Correct': 'b'},\n",
       " {'MCQ': 'What is the main goal of dimensionality reduction?',\n",
       "  'Choices': 'a: Increasing the number of features | b: Improving the performance of deep learning models | c: Reducing the number of random variables | d: Classifying data into different categories',\n",
       "  'Correct': 'c'},\n",
       " {'MCQ': 'What is the difference between supervised and unsupervised feature learning?',\n",
       "  'Choices': 'a: Supervised feature learning uses labeled data, while unsupervised feature learning uses unlabeled data | b: Supervised feature learning is used for classification, while unsupervised feature learning is used for clustering | c: Supervised feature learning is more accurate than unsupervised feature learning | d: Supervised feature learning is simpler than unsupervised feature learning',\n",
       "  'Correct': 'a'},\n",
       " {'MCQ': 'What is the primary goal of anomaly detection?',\n",
       "  'Choices': 'a: Identifying rare items or events that deviate from the norm | b: Clustering data into groups based on similarity | c: Predicting future outcomes based on past data | d: Discovering relationships between variables in large databases',\n",
       "  'Correct': 'a'}]"
      ]
     },
     "execution_count": 19,
     "metadata": {},
     "output_type": "execute_result"
    }
   ],
   "source": [
    "quiz_table_data"
   ]
  },
  {
   "cell_type": "code",
   "execution_count": 20,
   "metadata": {},
   "outputs": [],
   "source": [
    "quiz=pd.DataFrame(quiz_table_data)"
   ]
  },
  {
   "cell_type": "code",
   "execution_count": 21,
   "metadata": {},
   "outputs": [],
   "source": [
    "quiz.to_csv(\"ml.csv\",index=False)"
   ]
  },
  {
   "cell_type": "code",
   "execution_count": null,
   "metadata": {},
   "outputs": [],
   "source": []
  }
 ],
 "metadata": {
  "kernelspec": {
   "display_name": "question",
   "language": "python",
   "name": "python3"
  },
  "language_info": {
   "codemirror_mode": {
    "name": "ipython",
    "version": 3
   },
   "file_extension": ".py",
   "mimetype": "text/x-python",
   "name": "python",
   "nbconvert_exporter": "python",
   "pygments_lexer": "ipython3",
   "version": "3.11.7"
  }
 },
 "nbformat": 4,
 "nbformat_minor": 2
}
